{
  "cells": [
    {
      "cell_type": "markdown",
      "metadata": {
        "id": "view-in-github",
        "colab_type": "text"
      },
      "source": [
        "<a href=\"https://colab.research.google.com/github/AlfonsoOrtiz98/Analizis1/blob/main/Clase2_Ipynb.ipynb\" target=\"_parent\"><img src=\"https://colab.research.google.com/assets/colab-badge.svg\" alt=\"Open In Colab\"/></a>"
      ]
    },
    {
      "cell_type": "markdown",
      "id": "f5231fad",
      "metadata": {
        "id": "f5231fad"
      },
      "source": [
        "# Tipos de datos, operadores, entrada y salida"
      ]
    },
    {
      "cell_type": "markdown",
      "id": "93e047bb",
      "metadata": {
        "id": "93e047bb"
      },
      "source": [
        "## 🔢 Tipos de datos\n",
        "\n",
        "+ int: Numeros enteros\n",
        "+ float: Numeros decimales\n",
        "+ str: Cadenas de texto\n",
        "+ bool: Valores booleanos (Verdadero o falso (True o False))"
      ]
    },
    {
      "cell_type": "markdown",
      "id": "84eef472",
      "metadata": {
        "id": "84eef472"
      },
      "source": [
        "## ➕ Operadores matemáticos\n",
        "|Operador|Simbolo|\n",
        "|--------|-------|\n",
        "|Suma|+|\n",
        "|Resta|-|\n",
        "|Multiplicación|*|\n",
        "|División|/|\n",
        "|División entera|//|\n",
        "|Potencia|**|\n",
        "|Modulo(residuo)|%|"
      ]
    },
    {
      "cell_type": "markdown",
      "id": "d26b9e6d",
      "metadata": {
        "id": "d26b9e6d"
      },
      "source": [
        "## 🔤 Entrada y salida\n",
        "+ input(): Entrada de datos (siempre es tipo str)\n",
        "+ tipo(input()): Conversión de input a otro tipo de dato\n",
        "+ print(): Impresión por pantalla\n",
        "+ print(f\"\"): Impresión con variable incluida"
      ]
    },
    {
      "cell_type": "markdown",
      "id": "ef0bdd4f",
      "metadata": {
        "id": "ef0bdd4f"
      },
      "source": [
        "## 🧪 Ejercicio propuesto:\n",
        "Calcular el volumen de una Loza:\n",
        "+ debe ser interactiva (el usuario debe poder ingresar sus propios datos)\n",
        "+ deebera mostar el resultado en pantalla"
      ]
    },
    {
      "cell_type": "markdown",
      "id": "376fd313",
      "metadata": {
        "id": "376fd313"
      },
      "source": [
        "### 🐍 Codigo en Python"
      ]
    },
    {
      "cell_type": "code",
      "execution_count": null,
      "id": "9f04390e",
      "metadata": {
        "id": "9f04390e"
      },
      "outputs": [],
      "source": [
        "# Datos Losa\n",
        "ancho=float(input(\"Ingrese el ancho de la loza (m): \"))\n",
        "largo=float(input(\"Ingrese el largo de la loza (m): \"))\n",
        "grosor=float(input(\"Ingrese el grosor de la loza (m): \"))\n",
        "\n",
        "#Volumen\n",
        "volumen= ancho * largo * grosor\n",
        "\n",
        "#Impresion\n",
        "print(f\"Volumen (m^3): {volumen}\")"
      ]
    },
    {
      "cell_type": "markdown",
      "id": "6552535e",
      "metadata": {
        "id": "6552535e"
      },
      "source": [
        "## ✅ Ejercicio propuesto\n",
        "\n",
        "Escribe un programa que calcule el volumen de una columna cilindrica\n",
        "$$ V= \\pi \\times r^2 \\times h $$\n"
      ]
    }
  ],
  "metadata": {
    "kernelspec": {
      "display_name": "Python 3",
      "language": "python",
      "name": "python3"
    },
    "language_info": {
      "codemirror_mode": {
        "name": "ipython",
        "version": 3
      },
      "file_extension": ".py",
      "mimetype": "text/x-python",
      "name": "python",
      "nbconvert_exporter": "python",
      "pygments_lexer": "ipython3",
      "version": "3.13.5"
    },
    "colab": {
      "provenance": [],
      "include_colab_link": true
    }
  },
  "nbformat": 4,
  "nbformat_minor": 5
}